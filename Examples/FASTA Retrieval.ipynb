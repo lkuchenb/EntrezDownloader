{
 "cells": [
  {
   "cell_type": "markdown",
   "metadata": {},
   "source": [
    "## Initialization"
   ]
  },
  {
   "cell_type": "code",
   "execution_count": 1,
   "metadata": {},
   "outputs": [],
   "source": [
    "from EntrezDownloader import EntrezDownloader\n",
    "\n",
    "# Create a new downloader instance\n",
    "edl = EntrezDownloader(num_threads = 1)\n",
    "\n",
    "# 100 IDs\n",
    "ids = [ f'NT_112{num}.1' for num in range(550, 650) ]"
   ]
  },
  {
   "cell_type": "markdown",
   "metadata": {},
   "source": [
    "## Parser for the results\n",
    "We want to fetch FASTA data, so we need a FASTA parser to process the results. We'll use Biopython's:"
   ]
  },
  {
   "cell_type": "code",
   "execution_count": 2,
   "metadata": {},
   "outputs": [],
   "source": [
    "import io\n",
    "from Bio import SeqIO\n",
    "\n",
    "def fasta_parser(data):\n",
    "    return [ rec for rec in SeqIO.parse(io.StringIO(data), 'fasta') ]"
   ]
  },
  {
   "cell_type": "markdown",
   "metadata": {},
   "source": [
    "We use the parser as a result function for the `efetch()`. The parser deals with FASTA plaintext output, so we also pass `retmode='txt'` and `rettype='fasta'`:"
   ]
  },
  {
   "cell_type": "code",
   "execution_count": 3,
   "metadata": {},
   "outputs": [],
   "source": [
    "results, failed = edl.efetch(\n",
    "    db = 'nuccore',\n",
    "    retmode = 'txt',\n",
    "    rettype = 'fasta',\n",
    "    ids = ids,\n",
    "    result_func = fasta_parser\n",
    ")"
   ]
  },
  {
   "cell_type": "markdown",
   "metadata": {},
   "source": [
    "Build a dictionary making the sequences accessible by their FASTA IDs"
   ]
  },
  {
   "cell_type": "code",
   "execution_count": 4,
   "metadata": {
    "scrolled": true
   },
   "outputs": [],
   "source": [
    "results = { rec.id : rec.seq for rec in results }"
   ]
  },
  {
   "cell_type": "markdown",
   "metadata": {},
   "source": [
    "Print the results"
   ]
  },
  {
   "cell_type": "code",
   "execution_count": 5,
   "metadata": {
    "scrolled": true
   },
   "outputs": [
    {
     "name": "stdout",
     "output_type": "stream",
     "text": [
      "{'NT_112550.1': Seq('TTTATTTATTGATTTTTTTTGTGGTTTGAATTCTGGTTCTGTGTTATCTTTTTA...CAT', SingleLetterAlphabet()),\n",
      " 'NT_112551.1': Seq('AACATGGCCGATGATTTGGACATTGAAGCAATGCTCGAGGCTCCATATAAAAAG...GAA', SingleLetterAlphabet()),\n",
      " 'NT_112552.1': Seq('ACAGTCGCTTGAAATGAAAGTTTGCACAGAGGTGAAATTGAAGACTTGAAGAGG...AAT', SingleLetterAlphabet()),\n",
      " 'NT_112553.1': Seq('TATTGGATCAGTCTTCCTTCCGCTTCTGTGTTTTTCTGCAGCAGCGTCTCCAGC...AAG', SingleLetterAlphabet()),\n",
      " 'NT_112554.1': Seq('ACTAACCAATCAAATCATTCAAACCTGTGGGCAAACATGTTATTAACACCCTCT...GCA', SingleLetterAlphabet()),\n",
      " 'NT_112555.1': Seq('CTAAGAGAGTAATAGCAACATGGAAAGTATCACAGAACAGTGGACTGAGATGGA...TGC', SingleLetterAlphabet()),\n",
      " 'NT_112556.1': Seq('ATTCTGCAAATAATAAAAATAAAACAATAACAACAACAGTTGTTCTTTTTTTAT...GTG', SingleLetterAlphabet()),\n",
      " 'NT_112557.1': Seq('TGTTCTATGATCTCCTTTTCAGTGGATGTGACTCTGGATCCCGATACAGCTCAT...GAA', SingleLetterAlphabet()),\n",
      " 'NT_112558.1': Seq('GTCTCGCAGGTAAGGGACCCGAGAGCTTATTCGCGGGTCAGAATCTGAATGATG...TGC', SingleLetterAlphabet()),\n",
      " 'NT_112559.1': Seq('AGACGAAGGTGTGTGTGTGTCATGCTGTATGTCATGAGTTTGGAGAAGGTTAGT...TCG', SingleLetterAlphabet()),\n",
      " 'NT_112560.1': Seq('TTTGGAAAAACGGTGACAACATCATAACCCTCTGGAGGAGTGATGCGTTCGCGT...CCT', SingleLetterAlphabet()),\n",
      " 'NT_112561.1': Seq('TCCCAGTGTGATTGACAGACCACCCAGTCAACAGAGCAGGCCTTCAGTTAAGGA...AAT', SingleLetterAlphabet()),\n",
      " 'NT_112562.1': Seq('ATTCACAAGTGACAGATTGTTGGTGTTTGTAAAGCTTTACAGTTACATTGGCAC...ATC', SingleLetterAlphabet()),\n",
      " 'NT_112563.1': Seq('TTATTTATTTAATATAATTACAGACGTTACAGTAGGCTATTTCACGCTGTCATT...TGA', SingleLetterAlphabet()),\n",
      " 'NT_112564.1': Seq('ATGGCTGGTACGGCGTATCTAGATGCTGTGAAAAAGAAAATCAGATCCCTGCAA...ACT', SingleLetterAlphabet()),\n",
      " 'NT_112565.1': Seq('CATCTTCTCTTGCTATTCTCTTTGTCTTTGTCTTCTTTTCTGTGCTGCTTCTCA...TTT', SingleLetterAlphabet()),\n",
      " 'NT_112566.1': Seq('AGTTTTTTACAGGCTGGTGGATCATCATCGACGCAGCGATAATGTATCCTAAAG...GTT', SingleLetterAlphabet()),\n",
      " 'NT_112567.1': Seq('TCTTCTGATGTGTCACTCTTTTGCCATTCGTCTGAAGAAGTGCCCTCACTCTTT...AGG', SingleLetterAlphabet()),\n",
      " 'NT_112568.1': Seq('CACAAAAAATGAAAAATTTTTGAAAAATAACAAAAAATGAAAATTTTTTGAAAA...TTA', SingleLetterAlphabet()),\n",
      " 'NT_112569.1': Seq('TTCGGAGGACCCCATCAAGTCCTCAAGTCCAGTAAAAGACCACACCCATCAGTA...CAC', SingleLetterAlphabet()),\n",
      " 'NT_112570.1': Seq('CCAGAGGATGACAAGCTAACAAAACATTGCTGCAATTCTAATACAAGTTTTATT...CGT', SingleLetterAlphabet()),\n",
      " 'NT_112571.1': Seq('TGTTGACAAGTATGTAATATAGAGTAAAACAATTCCAAAGCTTATTGTTTTTGA...CAT', SingleLetterAlphabet()),\n",
      " 'NT_112572.1': Seq('ACCTGAATGGCTTGCACCAGTCTGTTGCTGAGCTCCAGAGCAGCAGAGGCTGTG...GAG', SingleLetterAlphabet()),\n",
      " 'NT_112573.1': Seq('GAATGTGCTTTTAAAATAAATATTTGTCTTTCAGGAACTGCGGGATGATATGCC...TAC', SingleLetterAlphabet()),\n",
      " 'NT_112574.1': Seq('AGCTGGACAAACCAGAGAAGCTGGAGGTGAGTGATAATGTGAAAGTGGTGGTGA...GGA', SingleLetterAlphabet()),\n",
      " 'NT_112575.1': Seq('CTGAAGATAGTTTGCAGTTTCATCAGCAAAAGCCAGCTTCAACACTCGCGATGA...TGC', SingleLetterAlphabet()),\n",
      " 'NT_112576.1': Seq('CACAACTAAAATGTACATTATTCACAGTATTTACATGGTCCCATTGCTTTGCCT...CAT', SingleLetterAlphabet()),\n",
      " 'NT_112577.1': Seq('AGTATAAGTGTGCATTTATTAATTTTCATAATATTAATTTCAACATTAAAAACA...ACA', SingleLetterAlphabet()),\n",
      " 'NT_112578.1': Seq('CAGCTATGCTTATAGACTTTGGTCTTTGATACCTTTAGTGTCCAGAATCTGGCC...CAT', SingleLetterAlphabet()),\n",
      " 'NT_112579.1': Seq('TGCGCCGTAGCTTCAAGCTACTTTTGATGGCAGTCTTGTAGTCGGAAATTATTT...TAT', SingleLetterAlphabet()),\n",
      " 'NT_112580.1': Seq('ATTTAACAATTAAGACTCATTCATATTAAAAACTTCTAAATTATGATGACCATT...TGT', SingleLetterAlphabet()),\n",
      " 'NT_112581.1': Seq('CCAGATGCATTGTTATGGTAGGAATGCCGTATCCCAACATAAAGTCACCAGAGC...ATA', SingleLetterAlphabet()),\n",
      " 'NT_112582.1': Seq('GAAGCCATGGGAAGCTGTTTTAGCTGTCCAGATAAAGAATCAATCCCTGACAAT...AAT', SingleLetterAlphabet()),\n",
      " 'NT_112583.1': Seq('TTTTCATTTTTAAACAAACCTTTTAATAGTAAAGTCCCTTTTAATAATATATTA...TTC', SingleLetterAlphabet()),\n",
      " 'NT_112584.1': Seq('ATTTATTTTTTCACACTTGAGTGGTTATAAACCTTTATAAGTTGAACATAAAAC...ACT', SingleLetterAlphabet()),\n",
      " 'NT_112585.1': Seq('AAAAGTTTAGAGTTTTTGTTTTGCAAAAAAAAAGAACTAAAATTAAGTTTCTTT...GTA', SingleLetterAlphabet()),\n",
      " 'NT_112586.1': Seq('CTAACCTGTGGAAGCTCCTCCAGGCTCCAGGGAGGGAGCAAAGAATAGCAGTGA...GAC', SingleLetterAlphabet()),\n",
      " 'NT_112587.1': Seq('TATATTCAGTATAGTGGTATTATAAAATGCAATTTCACCGCTCATATCCATCTC...AGC', SingleLetterAlphabet()),\n",
      " 'NT_112588.1': Seq('AAAGTTATAGAATGGTTATGTTATTCATGTTTTTTTTTTTTTTAAACATGAAAT...CTG', SingleLetterAlphabet()),\n",
      " 'NT_112589.1': Seq('TTTGACCGCTAGAGGATGGGTGCTGAAAACAAAGAAGAAAAAGAAAAGAAGATT...TCT', SingleLetterAlphabet()),\n",
      " 'NT_112590.1': Seq('AGTAAATCATTTGTAATTTTACGATAAAAAAATAGTCAGTACTTTCTCTTGAAC...GTG', SingleLetterAlphabet()),\n",
      " 'NT_112591.1': Seq('CTCAAATGTTCTTCTTTACCTCACAGTGAAAGACTGACCCAGAGTGCTGATATG...GTA', SingleLetterAlphabet()),\n",
      " 'NT_112592.1': Seq('ATTTTATATGTATCTATTGATTCAGTTGACAAGGGAAAAAATAGTAAGGAATTT...TGT', SingleLetterAlphabet()),\n",
      " 'NT_112593.1': Seq('AGTCGCGCGAGTGCGAGCAGTGAGCACGCGCTTACGCGTATTCTCTCCCTCCCA...AAT', SingleLetterAlphabet()),\n",
      " 'NT_112594.1': Seq('CACGCACGCGCACACACACACACACACACACACACACACACACACACACACACA...TTT', SingleLetterAlphabet()),\n",
      " 'NT_112595.1': Seq('ACAAATATAAACTATAAAAAGATAAAAATTATATTAAAAATATAAAAATAGCAA...CCC', SingleLetterAlphabet()),\n",
      " 'NT_112596.1': Seq('GATGTCTTTGGCAGACGAGCTGCTTGCGGATTTGGAGGAGGCAGGAGAAGAGGA...GTA', SingleLetterAlphabet()),\n",
      " 'NT_112597.1': Seq('GTTCCAAGGCATGTTATTTCCAGATAACAACCACCAACACTAATCACATCTGGG...TGG', SingleLetterAlphabet()),\n",
      " 'NT_112598.1': Seq('TTTTGTTTCTTTCATTAGATGACTGTCAATTAGAGAAAAGAAACTAATATTTCA...TGC', SingleLetterAlphabet()),\n",
      " 'NT_112599.1': Seq('TCCATAGATAAAAGTCGCTGGCCCCGTTACAGTTCTCTTTTTATTCAATTAAAT...ATC', SingleLetterAlphabet()),\n",
      " 'NT_112600.1': Seq('TGACTCGCACGATGAATTTAAGCTTGGATCTATCGCGCAGAAACCCACAGGAGG...CCT', SingleLetterAlphabet()),\n",
      " 'NT_112601.1': Seq('TCTGCTTGTTTACCTGCTTCAGATGGGCAGATAAACTGGACTCATTGACGATCA...TGT', SingleLetterAlphabet()),\n",
      " 'NT_112602.1': Seq('CAGACTGCCACATTGTGATTCTTTCTTCTTTGTTCTTGTCAGTCTATTGACTTG...GTA', SingleLetterAlphabet()),\n",
      " 'NT_112603.1': Seq('TGAAGGCCCAGTCCACGAGAACCCAGAATGGGAAAAGGCCCGACAGGCTCTAGC...CTC', SingleLetterAlphabet()),\n",
      " 'NT_112604.1': Seq('CCTTTTGTTTTCACATGATGGTGACCCTCTCTGGGGAGACGTGAGCAGCCGGTC...TTT', SingleLetterAlphabet()),\n",
      " 'NT_112605.1': Seq('GAACTTCAGATTGTAAGTCACATAGTAGCCATTATTGAACATGTAGAGCTTCTG...ATG', SingleLetterAlphabet()),\n",
      " 'NT_112606.1': Seq('GCCTTAGCGAAGCCCACTCTGTTATTCTCCCTGTCAAACACAGTGTAGTACTGG...CTG', SingleLetterAlphabet()),\n",
      " 'NT_112607.1': Seq('TAACTCTGAGAAAATGCTAATCTGTTGTTTTGCTTCTATATTATTTTCTTCATA...TTT', SingleLetterAlphabet()),\n",
      " 'NT_112608.1': Seq('GTGAAAAGCGAGCTTTCTGATGCATCATTTTCACTGGTTTAGTTTGATTCTGCA...TGT', SingleLetterAlphabet()),\n",
      " 'NT_112609.1': Seq('CAGACTTGAGCTCGTTGTCCATTGCGTTGACTTTGGCCTGCAGCGCCGCCTGAA...GGG', SingleLetterAlphabet()),\n",
      " 'NT_112610.1': Seq('TATATAGGAAATTAAACTAAAATAAATGTTGCAATGGAAAAAATATACCTATAT...GTT', SingleLetterAlphabet()),\n",
      " 'NT_112611.1': Seq('TATTGAGGGTGGCGTTGGCTGACGCGGCGAGGGGGGCCTTGGTAAATAGATGGC...AAG', SingleLetterAlphabet()),\n",
      " 'NT_112612.1': Seq('TCCTCGAGGTCTTTAGACGAAGTGGAGGAAGCAGGCGCGAGTCCCTCCTTCTCT...TCA', SingleLetterAlphabet()),\n",
      " 'NT_112613.1': Seq('TTTTATGCATAAAAAATGATAATGAAACATTATTACATCCATATTTTGACATTT...AGT', SingleLetterAlphabet()),\n",
      " 'NT_112614.1': Seq('AGGAAGATCTTGAAAAACAAAAAGAAAACACACTGGCAGAGATACAGAAAGAGA...ACT', SingleLetterAlphabet()),\n",
      " 'NT_112615.1': Seq('GAATTGAAACAGATGAAAACTGAGCTGGAAAGAGAAGCAGATGAGATTGAGAAG...ATT', SingleLetterAlphabet()),\n",
      " 'NT_112616.1': Seq('TTTTTTTTTTTTTAGTGTTCAAATTTGTTGCATTTTTTTTCAAATCTAGTTTAA...GAA', SingleLetterAlphabet()),\n",
      " 'NT_112617.1': Seq('ATGTTCATTCATCTTTTTCCAGCAATGCAGTCAAGAACTTATCAAAAGCATCTG...GGA', SingleLetterAlphabet()),\n",
      " 'NT_112618.1': Seq('AGTTGAGCAGCTCCAAGTAGGTAATTGGCACTTTGCCTTTCTGATTTCCTCTTT...GTC', SingleLetterAlphabet()),\n",
      " 'NT_112619.1': Seq('CAGAGAGAGAAGAATATATGGCCACATTCAAGGGTTCGGAGTATTTCTGTTACG...CCC', SingleLetterAlphabet()),\n",
      " 'NT_112620.1': Seq('ACCCGAAATAAGCTTTTGTCTTTGTGTTGTAGCCTGTGGACATTACGCTGGCTG...GAC', SingleLetterAlphabet()),\n",
      " 'NT_112621.1': Seq('CCACCTAGGGGCCTCTCACCCCAGCAAGCTACCCAGGGGTCCACAACTCTCCCT...CCC', SingleLetterAlphabet()),\n",
      " 'NT_112622.1': Seq('AGATCATCGTCACACCTCTCTGCACATCCACCACCCTCTGTCTAAACACCTCCC...ACC', SingleLetterAlphabet()),\n",
      " 'NT_112623.1': Seq('CTGTCTTTTTATTCTGACCTGACTCTGTCTGCATCGATAGTTCGTAGTGCTTTG...CAT', SingleLetterAlphabet()),\n",
      " 'NT_112624.1': Seq('GAGGCATTACCAGAGGCAGATCCATGAGGACCTGCATGCCGTCGCCTGGGCCCA...AGC', SingleLetterAlphabet()),\n",
      " 'NT_112625.1': Seq('TACTGTGTTATCTAAAAATGATCACAAACACGTCTGAAATTCTGTTATTTTATG...GGC', SingleLetterAlphabet()),\n",
      " 'NT_112626.1': Seq('ATCATTATGAGGTTAATATGTGTATAAAAGCCACTAACAAAGCAGCTGAAGTAG...GCT', SingleLetterAlphabet()),\n",
      " 'NT_112627.1': Seq('TGACATCTGATAAATAAAACTCTCAAGACTCTTTGTGTAGATAAAGGTGTAATT...AAC', SingleLetterAlphabet()),\n",
      " 'NT_112628.1': Seq('AATCTGCCCAAGAACAGGATGCTGTTGGTTGGGTTGTGCCTGATGTAAAACAAG...CCT', SingleLetterAlphabet()),\n",
      " 'NT_112629.1': Seq('GTAAACTACAAAAGTGAAAACATGTAACATTTTGGTCACACTTCTCAATAAAAT...GGC', SingleLetterAlphabet()),\n",
      " 'NT_112630.1': Seq('TAGCCTGGCATGCTGTAGAGAAACAGGCCCACCATGATCAGCAGCAGCAGAGCC...CTT', SingleLetterAlphabet()),\n",
      " 'NT_112631.1': Seq('AACCTTTTGGAAAAAAAGGTATTTTGAAGAAAGTTGGAAACTAAAAGCCAGTAG...GCC', SingleLetterAlphabet()),\n",
      " 'NT_112632.1': Seq('AAAAGTTTTACCAACTGTAGATACAAACTACAGATTATTTATAAGATTTGACAT...CTA', SingleLetterAlphabet()),\n",
      " 'NT_112633.1': Seq('CTGATTAAATTACATGTTTCAATGAACCTTAATTGCTTTTTTTGTCAAACCCGT...GAT', SingleLetterAlphabet()),\n",
      " 'NT_112634.1': Seq('TTGCTTTAGCAGACAGACTCCCTCTAGGCTCACAGCAGAACAAAAAGGGATAAC...GAA', SingleLetterAlphabet()),\n",
      " 'NT_112635.1': Seq('CTTTAACGCTGGACTTGTCTGACGAAGGCCTGCACCAGCTGGATGAACGGCTCC...AAA', SingleLetterAlphabet()),\n",
      " 'NT_112636.1': Seq('AACTAGAAATAATCATCAAAACTGAACTTTTATGCATATAGTTTACTTGACATA...TTG', SingleLetterAlphabet()),\n",
      " 'NT_112637.1': Seq('ATTTATATGTAAATAATCTTTTTAAAATGTCTTTAAATCATGTTTTTACATTAG...TCG', SingleLetterAlphabet()),\n",
      " 'NT_112638.1': Seq('CATGGCGTTCTCCGACCTGTTGGAGCAGGTAGGCAGCACGGGACGCTTCCAAGT...TAA', SingleLetterAlphabet()),\n",
      " 'NT_112639.1': Seq('ATATTTATATAGCATTATTCAAAAAATAGCAAATAATTGCAATTTCCACCATCA...ATT', SingleLetterAlphabet()),\n",
      " 'NT_112640.1': Seq('TTTACCTCGGCCACCTTGAGAAACTCGGAGAGCTTGGTCATCCTGACGAGAAAC...TGA', SingleLetterAlphabet()),\n",
      " 'NT_112641.1': Seq('GTCCTCCGACAAGCCTTCAGAAAACGACTCCTGTGGGTAAGCAAGCGTTCGCCT...AAT', SingleLetterAlphabet()),\n",
      " 'NT_112642.1': Seq('CCTTTTTCTATCTCCCTTCAACAAGGCCAAGTGGAGTCAGTGGCCACGTTCAAG...ACC', SingleLetterAlphabet()),\n",
      " 'NT_112643.1': Seq('TAAGAAAACTGATGATGATGACGATGCTGCAATTTAATGCACACACACACACAC...CTG', SingleLetterAlphabet()),\n",
      " 'NT_112644.1': Seq('TCCAGCAGAAGATCCTGAAGATCACGGAGCAGATCCGCGTGGAGCAGGAGGCCC...CCA', SingleLetterAlphabet()),\n",
      " 'NT_112645.1': Seq('TGTGTGTAGAAGAGGATGTAGGCCTGAGTGCTGCACACCTCCTCCACGCTGCAC...ATG', SingleLetterAlphabet()),\n",
      " 'NT_112646.1': Seq('TGGCACCGACCCGCGCCCGCGTCTTCATGAGCGGCGTGATGAAGTTGGCCATGG...GGA', SingleLetterAlphabet()),\n",
      " 'NT_112647.1': Seq('AATCAGTGAAAGAGTCAATGAAAGGAGTCAAAGAGGTGGAGTCAGTGAAGGGGG...AAA', SingleLetterAlphabet()),\n",
      " 'NT_112648.1': Seq('AGCAGGAACTGGTCTGTAAATTGCTCTCGGTGAGGATGGAGGTTATGCTGGAGT...CCA', SingleLetterAlphabet()),\n",
      " 'NT_112649.1': Seq('TCGCTGAAATTTTGATTTAAAAATAATTAAGTTAATATGCAAAATATCAGTTAG...GTG', SingleLetterAlphabet())}\n"
     ]
    }
   ],
   "source": [
    "from pprint import pprint\n",
    "pprint(results)"
   ]
  }
 ],
 "metadata": {
  "kernelspec": {
   "display_name": "Python 3",
   "language": "python",
   "name": "python3"
  },
  "language_info": {
   "codemirror_mode": {
    "name": "ipython",
    "version": 3
   },
   "file_extension": ".py",
   "mimetype": "text/x-python",
   "name": "python",
   "nbconvert_exporter": "python",
   "pygments_lexer": "ipython3",
   "version": "3.7.1"
  }
 },
 "nbformat": 4,
 "nbformat_minor": 2
}
