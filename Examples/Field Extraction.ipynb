{
 "cells": [
  {
   "cell_type": "code",
   "execution_count": 1,
   "metadata": {},
   "outputs": [],
   "source": [
    "def get_tax_id(rec):\n",
    "    try:\n",
    "        f_table  = rec['GBSeq_feature-table']\n",
    "        source   = [ elem for elem in f_table if elem['GBFeature_key']=='source' ][0]\n",
    "        quals    = source['GBFeature_quals']\n",
    "        db_xref  = [ elem for elem in quals if elem['GBQualifier_name']=='db_xref'][0]\n",
    "        tax_id   = int(db_xref['GBQualifier_value'].split(':')[1])\n",
    "        return tax_id\n",
    "    except (ValueError, KeyError, IndexError):\n",
    "        return None\n",
    "    \n",
    "def get_seq_id(rec):\n",
    "    try:\n",
    "        return rec['GBSeq_accession-version']\n",
    "    except KeyError:\n",
    "        return None\n",
    "\n",
    "def get_assembly_id(rec):\n",
    "    try:\n",
    "        x_refs = rec['GBSeq_xrefs']\n",
    "        assembly = [ elem for elem in x_refs if elem['GBXref_dbname']=='Assembly' ][0]\n",
    "        return assembly['GBXref_id']\n",
    "    except (KeyError, IndexError, ValueError):\n",
    "        return None\n",
    "    \n",
    "def func(xml_text):\n",
    "    return [ \n",
    "        (get_tax_id(rec), \n",
    "         get_seq_id(rec), \n",
    "         get_assembly_id(rec)) \n",
    "        for rec in Entrez.parse(io.StringIO(xml_text)) ]"
   ]
  },
  {
   "cell_type": "code",
   "execution_count": 2,
   "metadata": {},
   "outputs": [],
   "source": [
    "from EntrezDownloader import EntrezDownloader\n",
    "\n",
    "# Create a new downloader instance\n",
    "edl = EntrezDownloader()\n",
    "\n",
    "# 200 IDs\n",
    "ids = [ f'NC_004{num}.1' for num in range(443, 463) ]\n",
    "\n",
    "import io\n",
    "from Bio import Entrez\n",
    "\n",
    "results, failed = edl.efetch(\n",
    "  db = 'nuccore',\n",
    "  ids = ids,\n",
    "  result_func = func,\n",
    ")"
   ]
  },
  {
   "cell_type": "code",
   "execution_count": 3,
   "metadata": {},
   "outputs": [
    {
     "data": {
      "text/plain": [
       "[(216816, 'NC_004443.1', None),\n",
       " (53412, 'NC_004444.1', None),\n",
       " (634499, 'NC_004445.1', None),\n",
       " (889211, 'NC_004446.1', None),\n",
       " (7719, 'NC_004447.1', None),\n",
       " (38654, 'NC_004448.1', None),\n",
       " (1042646, 'NC_004449.1', None),\n",
       " (178354, 'NC_004450.1', None),\n",
       " (1002918, 'NC_004451.1', None),\n",
       " (196375, 'NC_004452.1', None),\n",
       " (242710, 'NC_004453.1', None),\n",
       " (109461, 'NC_004454.1', None),\n",
       " (159122, 'NC_004455.1', None),\n",
       " (207597, 'NC_004456.1', None),\n",
       " (264203, 'NC_004457.1', None),\n",
       " (442, 'NC_004458.1', None),\n",
       " (216895, 'NC_004459.1', None),\n",
       " (216895, 'NC_004460.1', None),\n",
       " (12228, 'NC_004461.1', 'GCF_000007645.1'),\n",
       " (164037, 'NC_004462.1', None)]"
      ]
     },
     "execution_count": 3,
     "metadata": {},
     "output_type": "execute_result"
    }
   ],
   "source": [
    "results"
   ]
  }
 ],
 "metadata": {
  "kernelspec": {
   "display_name": "Python 3",
   "language": "python",
   "name": "python3"
  },
  "language_info": {
   "codemirror_mode": {
    "name": "ipython",
    "version": 3
   },
   "file_extension": ".py",
   "mimetype": "text/x-python",
   "name": "python",
   "nbconvert_exporter": "python",
   "pygments_lexer": "ipython3",
   "version": "3.7.1"
  }
 },
 "nbformat": 4,
 "nbformat_minor": 2
}
